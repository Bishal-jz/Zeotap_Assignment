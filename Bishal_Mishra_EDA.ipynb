{
 "cells": [
  {
   "cell_type": "code",
   "execution_count": null,
   "metadata": {},
   "outputs": [],
   "source": [
    "import pandas as pd\n",
    "\n",
    "# Loading datasets\n",
    "customers_df = pd.read_csv('Customers.csv')\n",
    "products_df = pd.read_csv('Products.csv')\n",
    "transactions_df = pd.read_csv('Transactions.csv')\n",
    "\n",
    "# Displaying basic information about the datasets\n",
    "print(\"Customers Data:\")\n",
    "print(customers_df.info())\n",
    "print(customers_df.head())\n",
    "\n",
    "print(\"\\nProducts Data:\")\n",
    "print(products_df.info())\n",
    "print(products_df.head())\n",
    "\n",
    "print(\"\\nTransactions Data:\")\n",
    "print(transactions_df.info())\n",
    "print(transactions_df.head())\n"
   ]
  },
  {
   "cell_type": "code",
   "execution_count": 3,
   "metadata": {},
   "outputs": [],
   "source": [
    "# Merge datasets for comprehensive analysis\n",
    "merged_df = pd.merge(transactions_df, customers_df, on='CustomerID')\n",
    "merged_df = pd.merge(merged_df, products_df, on='ProductID')\n"
   ]
  },
  {
   "cell_type": "code",
   "execution_count": null,
   "metadata": {},
   "outputs": [],
   "source": [
    "#EDA\n",
    "# 1. Total number of transactions\n",
    "total_transactions = transactions_df['TransactionID'].nunique()\n",
    "print(f\"\\nTotal number of transactions: {total_transactions}\")"
   ]
  },
  {
   "cell_type": "code",
   "execution_count": null,
   "metadata": {},
   "outputs": [],
   "source": [
    "# 2. Total revenue generated\n",
    "total_revenue = transactions_df['TotalValue'].sum()\n",
    "print(f\"Total revenue generated: {total_revenue:.2f}\")\n"
   ]
  },
  {
   "cell_type": "code",
   "execution_count": null,
   "metadata": {},
   "outputs": [],
   "source": [
    "# 3. Most popular product category\n",
    "popular_category = merged_df['Category'].value_counts().idxmax()\n",
    "print(f\"Most popular product category: {popular_category}\")\n"
   ]
  },
  {
   "cell_type": "code",
   "execution_count": null,
   "metadata": {},
   "outputs": [],
   "source": [
    "# 4. Region with the highest number of customers\n",
    "region_with_most_customers = customers_df['Region'].value_counts().idxmax()\n",
    "print(f\"Region with the highest number of customers: {region_with_most_customers}\")"
   ]
  },
  {
   "cell_type": "code",
   "execution_count": null,
   "metadata": {},
   "outputs": [],
   "source": [
    "# 5. Customer with the highest total spending\n",
    "customer_spending = merged_df.groupby('CustomerName')['TotalValue'].sum().idxmax()\n",
    "print(f\"Customer with the highest total spending: {customer_spending}\")\n"
   ]
  },
  {
   "cell_type": "code",
   "execution_count": null,
   "metadata": {},
   "outputs": [],
   "source": [
    "# 6. Average transaction value\n",
    "average_transaction_value = transactions_df['TotalValue'].mean()\n",
    "print(f\"Average transaction value: {average_transaction_value:.2f}\")"
   ]
  },
  {
   "cell_type": "code",
   "execution_count": null,
   "metadata": {},
   "outputs": [],
   "source": [
    "# 7. Distribution of transactions over time\n",
    "transactions_df['TransactionDate'] = pd.to_datetime(transactions_df['TransactionDate'])\n",
    "transactions_df['Month'] = transactions_df['TransactionDate'].dt.month\n",
    "monthly_transactions = transactions_df.groupby('Month')['TransactionID'].count()\n",
    "print(\"\\nMonthly transactions distribution:\")\n",
    "print(monthly_transactions)"
   ]
  },
  {
   "cell_type": "code",
   "execution_count": null,
   "metadata": {},
   "outputs": [],
   "source": [
    "# 8. Top 5 most expensive products\n",
    "top_expensive_products = products_df.nlargest(5, 'Price')\n",
    "print(\"\\nTop 5 most expensive products:\")\n",
    "print(top_expensive_products[['ProductName', 'Price']])"
   ]
  },
  {
   "cell_type": "code",
   "execution_count": null,
   "metadata": {},
   "outputs": [],
   "source": [
    "# 9. Top 5 customers by total spending\n",
    "top_customers = merged_df.groupby('CustomerName')['TotalValue'].sum().nlargest(5)\n",
    "print(\"\\nTop 5 customers by total spending:\")\n",
    "print(top_customers)"
   ]
  },
  {
   "cell_type": "code",
   "execution_count": null,
   "metadata": {},
   "outputs": [],
   "source": [
    "# 10. Product category with the highest revenue\n",
    "category_revenue = merged_df.groupby('Category')['TotalValue'].sum().idxmax()\n",
    "print(f\"\\nProduct category with the highest revenue: {category_revenue}\")"
   ]
  }
 ],
 "metadata": {
  "kernelspec": {
   "display_name": "Python 3",
   "language": "python",
   "name": "python3"
  },
  "language_info": {
   "codemirror_mode": {
    "name": "ipython",
    "version": 3
   },
   "file_extension": ".py",
   "mimetype": "text/x-python",
   "name": "python",
   "nbconvert_exporter": "python",
   "pygments_lexer": "ipython3",
   "version": "3.12.3"
  }
 },
 "nbformat": 4,
 "nbformat_minor": 2
}

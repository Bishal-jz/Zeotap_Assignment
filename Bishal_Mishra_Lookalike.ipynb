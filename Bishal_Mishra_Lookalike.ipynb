{
 "cells": [
  {
   "cell_type": "code",
   "execution_count": 4,
   "metadata": {},
   "outputs": [],
   "source": [
    "import pandas as pd\n",
    "from sklearn.preprocessing import StandardScaler\n",
    "from sklearn.metrics.pairwise import cosine_similarity\n",
    "\n",
    "# Loading datasets\n",
    "customers_df = pd.read_csv('Customers.csv')\n",
    "products_df = pd.read_csv('Products.csv')\n",
    "transactions_df = pd.read_csv('Transactions.csv')\n"
   ]
  },
  {
   "cell_type": "code",
   "execution_count": 5,
   "metadata": {},
   "outputs": [],
   "source": [
    "# Merging datasets for comprehensive analysis\n",
    "merged_df = pd.merge(transactions_df, customers_df, on='CustomerID')\n",
    "merged_df = pd.merge(merged_df, products_df, on='ProductID')\n",
    "\n",
    "# Creating a customer-product matrix\n",
    "customer_product_matrix = merged_df.pivot_table(index='CustomerID', columns='ProductID', values='Quantity', fill_value=0)\n"
   ]
  },
  {
   "cell_type": "code",
   "execution_count": 6,
   "metadata": {},
   "outputs": [],
   "source": [
    "# Standardizing the customer-product matrix\n",
    "scaler = StandardScaler()\n",
    "customer_product_matrix_scaled = scaler.fit_transform(customer_product_matrix)\n",
    "\n",
    "# Computing cosine similarity between customers\n",
    "cosine_sim = cosine_similarity(customer_product_matrix_scaled)\n",
    "\n",
    "# Creating a DataFrame for cosine similarity\n",
    "cosine_sim_df = pd.DataFrame(cosine_sim, index=customer_product_matrix.index, columns=customer_product_matrix.index)\n"
   ]
  },
  {
   "cell_type": "code",
   "execution_count": null,
   "metadata": {},
   "outputs": [],
   "source": [
    "# Function to get the top 3 similar customers\n",
    "def get_top_similar_customers(customer_id, cosine_sim_df, top_n=3):\n",
    "    sim_scores = cosine_sim_df[customer_id].sort_values(ascending=False)\n",
    "    top_similar_customers = sim_scores.iloc[1:top_n+1]  # Excluding the customer itself\n",
    "    return top_similar_customers\n",
    "\n",
    "# Generating lookalike recommendations for the first 20 customers\n",
    "lookalike_map = {}\n",
    "for customer_id in customers_df['CustomerID'][:20]:\n",
    "    top_similar_customers = get_top_similar_customers(customer_id, cosine_sim_df)\n",
    "    lookalike_map[customer_id] = list(zip(top_similar_customers.index, top_similar_customers.values))\n",
    "\n",
    "# Convert the lookalike map to a DataFrame\n",
    "lookalike_df = pd.DataFrame.from_dict(lookalike_map, orient='index')\n",
    "lookalike_df = lookalike_df.stack().apply(pd.Series).reset_index(level=1, drop=True)\n",
    "lookalike_df.columns = ['SimilarCustomerID', 'SimilarityScore']\n",
    "\n",
    "# Save the lookalike recommendations to a CSV file\n",
    "lookalike_df.to_csv('Bishal_Mishra_Lookalike.csv', index=True)\n",
    "\n",
    "# Displaying the lookalike recommendations\n",
    "print(lookalike_df.head(60))  # Displaying top 60 recommendations (3 per customer for 20 customers)"
   ]
  }
 ],
 "metadata": {
  "kernelspec": {
   "display_name": "Python 3",
   "language": "python",
   "name": "python3"
  },
  "language_info": {
   "codemirror_mode": {
    "name": "ipython",
    "version": 3
   },
   "file_extension": ".py",
   "mimetype": "text/x-python",
   "name": "python",
   "nbconvert_exporter": "python",
   "pygments_lexer": "ipython3",
   "version": "3.12.3"
  }
 },
 "nbformat": 4,
 "nbformat_minor": 2
}
